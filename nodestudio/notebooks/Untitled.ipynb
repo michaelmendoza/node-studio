{
 "cells": [
  {
   "cell_type": "code",
   "execution_count": 1,
   "id": "0e12ba3a-ab70-4688-94d9-c647469476a0",
   "metadata": {},
   "outputs": [],
   "source": [
    "from enum import Enum\n",
    "class NodeType(Enum):\n",
    "    FILE = 'File'\n",
    "    ADD = 'Add'\n",
    "    MASK = 'Mask'\n",
    "    FIT = 'Fit'\n",
    "    DISPLAY = 'Display'"
   ]
  },
  {
   "cell_type": "code",
   "execution_count": 3,
   "id": "28bd1a5f-df72-4c7f-b8db-d1accd1c947b",
   "metadata": {},
   "outputs": [
    {
     "name": "stdout",
     "output_type": "stream",
     "text": [
      "NodeType.FILE\n"
     ]
    }
   ],
   "source": [
    "print(NodeType.FILE)"
   ]
  },
  {
   "cell_type": "code",
   "execution_count": 4,
   "id": "6105c1e0-b0e6-44ca-b156-9a723417a918",
   "metadata": {},
   "outputs": [
    {
     "data": {
      "text/plain": [
       "'File'"
      ]
     },
     "execution_count": 4,
     "metadata": {},
     "output_type": "execute_result"
    }
   ],
   "source": [
    "NodeType.FILE.value"
   ]
  },
  {
   "cell_type": "code",
   "execution_count": 5,
   "id": "1476f69a-1ee5-478b-b6db-b7ac4d041444",
   "metadata": {},
   "outputs": [],
   "source": [
    "nodes = {\n",
    "    NodeType.ADD: { 'input': 'test' }\n",
    "}"
   ]
  },
  {
   "cell_type": "code",
   "execution_count": 6,
   "id": "377d107a-a485-407b-ad5b-928eb38d3894",
   "metadata": {},
   "outputs": [
    {
     "data": {
      "text/plain": [
       "{<NodeType.ADD: 'Add'>: {'input': 'test'}}"
      ]
     },
     "execution_count": 6,
     "metadata": {},
     "output_type": "execute_result"
    }
   ],
   "source": [
    "nodes"
   ]
  },
  {
   "cell_type": "code",
   "execution_count": 7,
   "id": "2ee3d034-1050-4a23-bc5e-7d76b1386c3c",
   "metadata": {},
   "outputs": [
    {
     "data": {
      "text/plain": [
       "{'input': 'test'}"
      ]
     },
     "execution_count": 7,
     "metadata": {},
     "output_type": "execute_result"
    }
   ],
   "source": [
    "nodes[NodeType.ADD]"
   ]
  },
  {
   "cell_type": "code",
   "execution_count": 9,
   "id": "14a7231f-70b2-4130-abdd-9aac19b5831c",
   "metadata": {},
   "outputs": [],
   "source": [
    "import numpy as np\n",
    "import matplotlib.pyplot as plt\n",
    "\n",
    "def create_circular_mask(h, w, center=None, radius=None):\n",
    "\n",
    "    if center is None: # use the middle of the image\n",
    "        center = (int(w/2), int(h/2))\n",
    "    if radius is None: # use the smallest distance between the center and image walls\n",
    "        radius = min(center[0], center[1], w-center[0], h-center[1])\n",
    "\n",
    "    Y, X = np.ogrid[:h, :w]\n",
    "    dist_from_center = np.sqrt((X - center[0])**2 + (Y-center[1])**2)\n",
    "\n",
    "    mask = dist_from_center <= radius\n",
    "    return mask"
   ]
  },
  {
   "cell_type": "code",
   "execution_count": 13,
   "id": "9c5d5c1d-7ad1-4e76-a573-4d53a1632e2d",
   "metadata": {},
   "outputs": [
    {
     "data": {
      "text/plain": [
       "<matplotlib.image.AxesImage at 0x7fd1406dc970>"
      ]
     },
     "execution_count": 13,
     "metadata": {},
     "output_type": "execute_result"
    },
    {
     "data": {
      "image/png": "[encoded data removed]",
      "text/plain": [
       "<Figure size 432x288 with 1 Axes>"
      ]
     },
     "metadata": {
      "needs_background": "light"
     },
     "output_type": "display_data"
    }
   ],
   "source": [
    "a = create_circular_mask(10, 10) \n",
    "plt.imshow(a)"
   ]
  },
  {
   "cell_type": "code",
   "execution_count": 11,
   "id": "22206a56-f162-486b-9aa5-a735162ca735",
   "metadata": {},
   "outputs": [],
   "source": [
    "h, w = 10, 10\n",
    "center = (int(w/2), int(h/2))\n",
    "Y, X = np.ogrid[:h, :w]\n",
    "b = np.sqrt((X - center[0])**2 + (Y-center[1])**2)"
   ]
  },
  {
   "cell_type": "code",
   "execution_count": 12,
   "id": "3389d5b3-49c7-4595-bd12-84e3b95c404e",
   "metadata": {},
   "outputs": [
    {
     "data": {
      "text/plain": [
       "<matplotlib.image.AxesImage at 0x7fd140614f40>"
      ]
     },
     "execution_count": 12,
     "metadata": {},
     "output_type": "execute_result"
    },
    {
     "data": {
      "image/png": "[encoded data removed]",
      "text/plain": [
       "<Figure size 432x288 with 1 Axes>"
      ]
     },
     "metadata": {
      "needs_background": "light"
     },
     "output_type": "display_data"
    }
   ],
   "source": [
    "plt.imshow(b)"
   ]
  },
  {
   "cell_type": "code",
   "execution_count": 17,
   "id": "b7e36bc6-54f0-42a2-936e-b1a320e46e05",
   "metadata": {},
   "outputs": [
    {
     "data": {
      "text/plain": [
       "<matplotlib.image.AxesImage at 0x7fd1802fdc40>"
      ]
     },
     "execution_count": 17,
     "metadata": {},
     "output_type": "execute_result"
    },
    {
     "data": {
      "image/png": "[encoded data removed]",
      "text/plain": [
       "<Figure size 432x288 with 1 Axes>"
      ]
     },
     "metadata": {
      "needs_background": "light"
     },
     "output_type": "display_data"
    }
   ],
   "source": [
    "plt.imshow(a * b)"
   ]
  },
  {
   "cell_type": "code",
   "execution_count": 7,
   "id": "ea89caa7-1afb-43bf-b356-31aea44b56c4",
   "metadata": {},
   "outputs": [],
   "source": [
    "from pydantic.dataclasses import dataclass\n",
    "from pydantic import BaseModel\n",
    "from typing import List, Callable\n",
    "\n",
    "class NodeProps(BaseModel):\n",
    "    type: str\n",
    "    input: List[str] = []\n",
    "    output: List[str] = []\n",
    "    options: List[str] = []\n",
    "    fn: Callable = lambda x:x"
   ]
  },
  {
   "cell_type": "code",
   "execution_count": 8,
   "id": "75a55100-cdf7-4683-b3b2-c4361772529d",
   "metadata": {},
   "outputs": [],
   "source": [
    "a = NodeProps(type='test',input=['a'],output=['b'],options=[],fn=lambda x:x)\n",
    "\n"
   ]
  },
  {
   "cell_type": "code",
   "execution_count": 9,
   "id": "c088c7ac-c4b8-4b0a-9732-5e109742b352",
   "metadata": {},
   "outputs": [],
   "source": [
    "props = { 'type':'test', 'output':['b'], 'options':[], 'x':3 }\n",
    "b = NodeProps(**props)"
   ]
  },
  {
   "cell_type": "code",
   "execution_count": 10,
   "id": "663fa53a-4474-4c42-9d86-5b8e1ad85700",
   "metadata": {},
   "outputs": [
    {
     "data": {
      "text/plain": [
       "NodeProps(type='test', input=[], output=['b'], options=[], fn=<function NodeProps.<lambda> at 0x7fa56036f790>)"
      ]
     },
     "execution_count": 10,
     "metadata": {},
     "output_type": "execute_result"
    }
   ],
   "source": [
    "b"
   ]
  },
  {
   "cell_type": "code",
   "execution_count": 11,
   "id": "8fb19596-81f0-4d04-a662-5609f1f471db",
   "metadata": {},
   "outputs": [
    {
     "ename": "AttributeError",
     "evalue": "'NodeProps' object has no attribute 'x'",
     "output_type": "error",
     "traceback": [
      "\u001b[0;31m---------------------------------------------------------------------------\u001b[0m",
      "\u001b[0;31mAttributeError\u001b[0m                            Traceback (most recent call last)",
      "Input \u001b[0;32mIn [11]\u001b[0m, in \u001b[0;36m<module>\u001b[0;34m\u001b[0m\n\u001b[0;32m----> 1\u001b[0m \u001b[43mb\u001b[49m\u001b[38;5;241;43m.\u001b[39;49m\u001b[43mx\u001b[49m\n",
      "\u001b[0;31mAttributeError\u001b[0m: 'NodeProps' object has no attribute 'x'"
     ]
    }
   ],
   "source": [
    "b.x"
   ]
  },
  {
   "cell_type": "code",
   "execution_count": 14,
   "id": "b798688a-4bcd-40a4-9c03-24f957ca65eb",
   "metadata": {},
   "outputs": [
    {
     "data": {
      "text/plain": [
       "array([[[1, 2],\n",
       "        [3, 4]],\n",
       "\n",
       "       [[1, 2],\n",
       "        [3, 4]],\n",
       "\n",
       "       [[1, 2],\n",
       "        [3, 4]]])"
      ]
     },
     "execution_count": 14,
     "metadata": {},
     "output_type": "execute_result"
    }
   ],
   "source": [
    "import numpy as np\n",
    "\n",
    "x = np.array([[1,2],[3,4]])\n",
    "x = np.reshape(x, (1,2,2))\n",
    "x2 = np.repeat(x, 3, axis=0)\n",
    "x2"
   ]
  },
  {
   "cell_type": "code",
   "execution_count": null,
   "id": "9a98da9b-7742-4800-bbd3-9c90dcadab73",
   "metadata": {},
   "outputs": [],
   "source": []
  }
 ],
 "metadata": {
  "kernelspec": {
   "display_name": "Python 3 (ipykernel)",
   "language": "python",
   "name": "python3"
  },
  "language_info": {
   "codemirror_mode": {
    "name": "ipython",
    "version": 3
   },
   "file_extension": ".py",
   "mimetype": "text/x-python",
   "name": "python",
   "nbconvert_exporter": "python",
   "pygments_lexer": "ipython3",
   "version": "3.8.5"
  }
 },
 "nbformat": 4,
 "nbformat_minor": 5
}
